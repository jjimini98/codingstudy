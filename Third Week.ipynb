{
 "cells": [
  {
   "cell_type": "code",
   "execution_count": 2,
   "metadata": {},
   "outputs": [
    {
     "name": "stdout",
     "output_type": "stream",
     "text": [
      "\n"
     ]
    },
    {
     "ename": "ValueError",
     "evalue": "invalid literal for int() with base 10: ''",
     "output_type": "error",
     "traceback": [
      "\u001b[0;31m---------------------------------------------------------------------------\u001b[0m",
      "\u001b[0;31mValueError\u001b[0m                                Traceback (most recent call last)",
      "\u001b[0;32m<ipython-input-2-bfdcb4e7352f>\u001b[0m in \u001b[0;36m<module>\u001b[0;34m\u001b[0m\n\u001b[1;32m      1\u001b[0m \u001b[0;31m#10952 A+B-5\u001b[0m\u001b[0;34m\u001b[0m\u001b[0;34m\u001b[0m\u001b[0;34m\u001b[0m\u001b[0m\n\u001b[1;32m      2\u001b[0m \u001b[0;32mwhile\u001b[0m \u001b[0;32mTrue\u001b[0m \u001b[0;34m:\u001b[0m\u001b[0;34m\u001b[0m\u001b[0;34m\u001b[0m\u001b[0m\n\u001b[0;32m----> 3\u001b[0;31m     \u001b[0ma\u001b[0m\u001b[0;34m,\u001b[0m\u001b[0mb\u001b[0m \u001b[0;34m=\u001b[0m \u001b[0mmap\u001b[0m\u001b[0;34m(\u001b[0m\u001b[0mint\u001b[0m\u001b[0;34m,\u001b[0m \u001b[0minput\u001b[0m\u001b[0;34m(\u001b[0m\u001b[0;34m)\u001b[0m\u001b[0;34m.\u001b[0m\u001b[0msplit\u001b[0m\u001b[0;34m(\u001b[0m\u001b[0;34m\" \"\u001b[0m\u001b[0;34m)\u001b[0m\u001b[0;34m)\u001b[0m\u001b[0;34m\u001b[0m\u001b[0;34m\u001b[0m\u001b[0m\n\u001b[0m\u001b[1;32m      4\u001b[0m     \u001b[0;32mif\u001b[0m \u001b[0ma\u001b[0m \u001b[0;34m==\u001b[0m\u001b[0;36m0\u001b[0m\u001b[0;34m:\u001b[0m\u001b[0;34m\u001b[0m\u001b[0;34m\u001b[0m\u001b[0m\n\u001b[1;32m      5\u001b[0m         \u001b[0;32mbreak\u001b[0m\u001b[0;34m\u001b[0m\u001b[0;34m\u001b[0m\u001b[0m\n",
      "\u001b[0;31mValueError\u001b[0m: invalid literal for int() with base 10: ''"
     ]
    }
   ],
   "source": [
    "#10952 A+B-5\n",
    "while True : \n",
    "    a,b = map(int, input().split(\" \"))\n",
    "    if a ==0:\n",
    "        break\n",
    "    else: \n",
    "        print(a+b)"
   ]
  },
  {
   "cell_type": "code",
   "execution_count": null,
   "metadata": {},
   "outputs": [],
   "source": [
    "#109651 A+B -4\n",
    "#주피터에서 실행이 안됨 \n",
    "import sys\n",
    "for line in sys.stdin:\n",
    "     a, b = map(int, line.split())\n",
    "          print(a + b)"
   ]
  },
  {
   "cell_type": "code",
   "execution_count": null,
   "metadata": {},
   "outputs": [],
   "source": [
    "#1110 더하기 사이클  (진행중)\n",
    "number = int(input())\n",
    "cycle = 0 \n",
    "while True:\n",
    "    ten = number //10\n",
    "    one = number % 10\n",
    "    newnum = ten + one\n",
    "    if newnum == number :\n",
    "        print(cycle)\n",
    "        break\n",
    "    else:\n",
    "        cycle+=1\n",
    "        continue\n"
   ]
  },
  {
   "cell_type": "code",
   "execution_count": null,
   "metadata": {},
   "outputs": [],
   "source": [
    "#10818 최소, 최대 \n",
    "num = int(input( ))\n",
    "seq = list(map(int,input().split(\" \")))\n",
    "print(min(seq), max(seq))"
   ]
  },
  {
   "cell_type": "code",
   "execution_count": null,
   "metadata": {},
   "outputs": [],
   "source": [
    "#2652 최댓값\n",
    "nums = [int(input()) for _ in range(9)]\n",
    "lis = []\n",
    "for i in nums:\n",
    "    lis.append(i)\n",
    "print(max(lis))\n",
    "print(lis.index(max(lis))+1)"
   ]
  },
  {
   "cell_type": "code",
   "execution_count": null,
   "metadata": {},
   "outputs": [],
   "source": [
    "#2577 숫자의 개수 \n",
    "a = int(input())\n",
    "b = int(input())\n",
    "c = int(input())\n",
    "\n",
    "num = str(a*b*c)\n",
    "\n",
    "for i in range(0,10):\n",
    "    print(num.count(str(i)))"
   ]
  },
  {
   "cell_type": "code",
   "execution_count": null,
   "metadata": {},
   "outputs": [],
   "source": [
    "#3052 나머지\n",
    "num = [input() for _ in range(10)]\n",
    "ans=[]\n",
    "count=0\n",
    "for i in num:\n",
    "    i=int(i)\n",
    "    answ=i%42\n",
    "    ans.append(answ)\n",
    "ans1=set(ans)\n",
    "ans2=list(ans1)\n",
    "print(len(ans2))"
   ]
  },
  {
   "cell_type": "code",
   "execution_count": null,
   "metadata": {},
   "outputs": [],
   "source": [
    "#1546 평균\n",
    "최대값을 먼저 찾고 점수 \n",
    "최대값이 80, 40/80*100 / 60/80*100"
   ]
  },
  {
   "cell_type": "code",
   "execution_count": null,
   "metadata": {},
   "outputs": [],
   "source": [
    "#8958 OX 퀴즈 진행중\n",
    "count = int(input())\n",
    "score = 0\n",
    "cum = 0\n",
    "for i in range(count):\n",
    "    test=list(input())\n",
    "    if test[0]==\"O\":\n",
    "        cum+=1\n",
    "        score+=cum\n",
    "    else:\n",
    "        score+=0\n",
    "    for x in range(1,len(test)):\n",
    "        if test[x]==\"O\":\n",
    "            score \n",
    "print(score)\n",
    "#변수를 잘 설정하쟈~ "
   ]
  },
  {
   "cell_type": "code",
   "execution_count": 3,
   "metadata": {},
   "outputs": [],
   "source": [
    "#4344 평균은 넘겠지"
   ]
  },
  {
   "cell_type": "code",
   "execution_count": null,
   "metadata": {},
   "outputs": [],
   "source": [
    "#1093 : [기초-1차원배열] 이상한 출석 번호 부르기1(설명)\n",
    "# https://codeup.kr/problem.php?id=1093\n",
    "# 근데 문제에선 오답임;; \n",
    "count = int(input())\n",
    "seq = list(map(int,input().split(\" \")))\n",
    "\n",
    "for i in range(1,24):\n",
    "    print(int(seq.count(i)),end=\" \")"
   ]
  },
  {
   "cell_type": "code",
   "execution_count": null,
   "metadata": {},
   "outputs": [],
   "source": [
    "#8958 정답코드 \n",
    "n = int(input())\n",
    "for i in range(n):\n",
    "    Num = input()\n",
    "    score = 0\n",
    "    cnt = 0\n",
    "    for j in range(len(Num)):\n",
    "        if Num[j] == 'O':\n",
    "            cnt += 1\n",
    "            score += cnt\n",
    "        elif Num[j] == 'X':\n",
    "            score += 0\n",
    "            cnt = 0\n",
    "    print(score)"
   ]
  },
  {
   "cell_type": "code",
   "execution_count": null,
   "metadata": {},
   "outputs": [],
   "source": []
  },
  {
   "cell_type": "code",
   "execution_count": null,
   "metadata": {},
   "outputs": [],
   "source": []
  }
 ],
 "metadata": {
  "kernelspec": {
   "display_name": "Python 3",
   "language": "python",
   "name": "python3"
  },
  "language_info": {
   "codemirror_mode": {
    "name": "ipython",
    "version": 3
   },
   "file_extension": ".py",
   "mimetype": "text/x-python",
   "name": "python",
   "nbconvert_exporter": "python",
   "pygments_lexer": "ipython3",
   "version": "3.6.9"
  }
 },
 "nbformat": 4,
 "nbformat_minor": 4
}
